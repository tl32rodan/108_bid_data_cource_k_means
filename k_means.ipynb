{
 "cells": [
  {
   "cell_type": "code",
   "execution_count": 1,
   "metadata": {},
   "outputs": [],
   "source": [
    "\n",
    "import random\n",
    "import numpy as np\n",
    "import pandas as pd\n",
    "from sklearn import cluster, datasets\n",
    "from sklearn.metrics import accuracy_score\n",
    "from sklearn import preprocessing\n"
   ]
  },
  {
   "cell_type": "markdown",
   "metadata": {},
   "source": [
    "# Data Preprocessing"
   ]
  },
  {
   "cell_type": "markdown",
   "metadata": {},
   "source": [
    "## Abalone dataset"
   ]
  },
  {
   "cell_type": "code",
   "execution_count": 72,
   "metadata": {
    "scrolled": true
   },
   "outputs": [
    {
     "data": {
      "text/plain": [
       "'\\ncolumn_names = [\"sex\", \"length\", \"diameter\", \"height\", \"whole weight\", \\n                \"shucked weight\", \"viscera weight\", \"shell weight\", \"rings\"]\\nabalone = pd.read_csv(\"abalone.data\",names=column_names)\\ndata_x = abalone.drop(columns=[\"rings\"])\\n#0,1,2 labeling sex\\n#data_x = data_x.replace([\\'M\\',\\'F\\',\\'I\\'],[0,1,2])\\n\\n#one-hot encoding\\ndfDummies = pd.get_dummies(data_x[\\'sex\\'], prefix = \\'sex\\')\\ndata_x = pd.DataFrame(preprocessing.scale(pd.concat([data_x.drop(columns=[\\'sex\\']), dfDummies], axis=1)))\\n\\ndata_y = np.array(abalone[\"rings\"])\\ndata_y[data_y<11]    = 0\\ndata_y[data_y>=11]   = 1\\nSimulate_time = 10\\ndata_x\\n'"
      ]
     },
     "execution_count": 72,
     "metadata": {},
     "output_type": "execute_result"
    }
   ],
   "source": [
    "#data_x : features (Dataframe)\n",
    "#data_y : labels   (np.array)\n",
    "'''\n",
    "column_names = [\"sex\", \"length\", \"diameter\", \"height\", \"whole weight\", \n",
    "                \"shucked weight\", \"viscera weight\", \"shell weight\", \"rings\"]\n",
    "abalone = pd.read_csv(\"abalone.data\",names=column_names)\n",
    "data_x = abalone.drop(columns=[\"rings\"])\n",
    "#0,1,2 labeling sex\n",
    "#data_x = data_x.replace(['M','F','I'],[0,1,2])\n",
    "\n",
    "#one-hot encoding\n",
    "dfDummies = pd.get_dummies(data_x['sex'], prefix = 'sex')\n",
    "data_x = pd.DataFrame(preprocessing.scale(pd.concat([data_x.drop(columns=['sex']), dfDummies], axis=1)))\n",
    "\n",
    "data_y = np.array(abalone[\"rings\"])\n",
    "data_y[data_y<11]    = 0\n",
    "data_y[data_y>=11]   = 1\n",
    "Simulate_time = 10\n",
    "data_x\n",
    "'''"
   ]
  },
  {
   "cell_type": "markdown",
   "metadata": {},
   "source": [
    "## Iris Dataset"
   ]
  },
  {
   "cell_type": "code",
   "execution_count": 73,
   "metadata": {},
   "outputs": [],
   "source": [
    "#data_x : features (np.array)\n",
    "#data_y : labels   (np.array)\n",
    "\n",
    "iris = datasets.load_iris()\n",
    "data_x = iris.data\n",
    "data_y = iris.target\n"
   ]
  },
  {
   "cell_type": "code",
   "execution_count": 74,
   "metadata": {},
   "outputs": [],
   "source": [
    "class our_k_means:\n",
    "    def __init__(self,data_x,data_y):\n",
    "        self.data_x = pd.DataFrame(data_x)\n",
    "        self.data_y = data_y\n",
    "        self.label  = pd.DataFrame(data_y)\n",
    "        self.acc    = 0\n",
    "        \n",
    "        #資料特性\n",
    "        self.DCNT = len(self.data_x)               #資料個數\n",
    "        self.DIM  = len(self.data_x.columns)       #資料維度\n",
    "        self.K    = len(np.unique(self.data_y))    #叢聚個數\n",
    "        #self.K    = np.amax(self.data_y)+1        #叢聚個數\n",
    "        self.MAX_ITER = 50                         #最大迭代 \n",
    "        self.MIN_PT = 0                            #最小變動點\n",
    "        \n",
    "        #k-means過程的參數\n",
    "        self.data =[]                       #data[DCNT][DIM]:資料\n",
    "        self.cent =[]                       #cent[K][DIM]   :各centroid的座標\n",
    "        self.table=[]                       #table[DCNT]    :各資料的所屬cluster\n",
    "        self.dis_k=[]                       #dis_k[K][DIM]  :各cluster的座標和\n",
    "        self.cent_c=[]                      #cent_c[K]      :各cluster的擁有資料數和\n",
    "        self.ch_pt = 0                      #ch_pt          :紀錄變動點個數\n",
    "        self.iterl = 0 \n",
    "        self.sse2 = 0\n",
    "        \n",
    "        #計算acc時的參數\n",
    "        self.origin_mass = []\n",
    "        self.cent_name = []\n",
    "        \n",
    "    \n",
    "    #run k-means    \n",
    "    def run(self):\n",
    "        \n",
    "        #initialize tables\n",
    "        self.kmeans_init()   #初始化centroid\n",
    "                \n",
    "        #first iteration \n",
    "        self.ch_pt = 0          \n",
    "        self.iterl = 0\n",
    "        self.sse2 = 0\n",
    "        sse1 = 1\n",
    "        \n",
    "        #update centroid & data clustering\n",
    "        while self.iterl<self.MAX_ITER and sse1!=self.sse2 and self.ch_pt >self.MIN_PT  :\n",
    "            sse1 = self.sse2\n",
    "            \n",
    "            self.sse2 = self.update_table()\n",
    "            self.update_cent()\n",
    "            \n",
    "            self.iterl+=1\n",
    "        \n",
    "        self.table = self.table.astype(int)\n",
    "        \n",
    "        \n",
    "    #Calculate average accuracy    \n",
    "    def calculate_acc(self,iterate_times):\n",
    "        self.acc = 0\n",
    "        i = 0\n",
    "        while( i < iterate_times):\n",
    "            self.run()\n",
    "            self.calculate_origin_mass()\n",
    "            self.cent_name = self.centroid_names()\n",
    "            \n",
    "            # Avoid the rare situations that some cluster are gone\n",
    "            if len(np.unique(self.cent_name)) != self.K:\n",
    "                continue\n",
    "                \n",
    "            self.nearest_cluster()\n",
    "            i += 1\n",
    "            self.acc += accuracy_score(self.data_y,self.table)\n",
    "\n",
    "            \n",
    "            #self.print_result()\n",
    "        \n",
    "        if iterate_times is not 0:\n",
    "            self.acc /= iterate_times\n",
    "        \n",
    "        print(\"Average accuracy for \",iterate_times,\" times : \",self.acc)\n",
    "        return self.acc\n",
    "#---------------------------------------------------------------------------------\n",
    "#----------------Subfunctions of calculate_acc(iterate_times)---------------------\n",
    "#---------------------------------------------------------------------------------\n",
    "    def centroid_names(self):\n",
    "        cent_name = np.zeros(self.K)\n",
    "        \n",
    "        for i in range(self.K):\n",
    "            min_dist=float(\"inf\")\n",
    "            name = 0\n",
    "            for j in range(self.K):\n",
    "                dist = np.linalg.norm(self.cent[i] - self.origin_mass[j])\n",
    "                if dist < min_dist:\n",
    "                    min_dist = dist\n",
    "                    name = j\n",
    "            cent_name[i] = name\n",
    "            \n",
    "        return cent_name\n",
    "    \n",
    "    def calculate_origin_mass(self):\n",
    "        self.origin_mass = np.zeros((self.K,self.DIM))\n",
    "        \n",
    "        counter = np.zeros(self.K)\n",
    "        for i in range(self.K):\n",
    "            counter[i] = len(self.data_y[self.data_y==i])\n",
    "            \n",
    "        \n",
    "        for j in range(self.DIM):\n",
    "            for i in range(self.DCNT):\n",
    "                a = self.data_y[i]\n",
    "                self.origin_mass[a][j] += self.data_x.iloc[i,j]\n",
    "            for i in range(self.K):  \n",
    "                if counter[i] is not 0:\n",
    "                    self.origin_mass[i][j] /= counter[i]\n",
    "    \n",
    "    def nearest_cluster(self):\n",
    "        for i in range(len(self.data_x.index)):\n",
    "            min_dist=float(\"inf\")\n",
    "            name = 0\n",
    "            for j in range(self.K):\n",
    "                dist = np.linalg.norm(self.data_x.iloc[i]-self.cent[j])\n",
    "                if dist < min_dist:\n",
    "                    min_dist = dist\n",
    "                    name = j\n",
    "                    \n",
    "            self.table[i] = self.cent_name[name]\n",
    "            \n",
    "#---------------------------------------------------------------------------------\n",
    "#------------------------------Subfunctions of run()------------------------------\n",
    "#---------------------------------------------------------------------------------    \n",
    "    def kmeans_init(self):\n",
    "        \n",
    "        self.data = list(self.data_x.values)\n",
    "        self.table= np.zeros(self.DCNT)\n",
    "        self.dis_k= np.zeros((self.K,self.DIM))\n",
    "        self.cent_c=np.zeros(self.K)\n",
    "                \n",
    "        # randomly pick k data as centroid\n",
    "        self.cent = random.sample(self.data, self.K)\n",
    "        \n",
    "    \n",
    "    def cal_distance(self,x,y):\n",
    "        s = 0\n",
    "        for i in range(self.DIM):\n",
    "            s = s + (self.data[x][i]-self.cent[y][i])**2\n",
    "        return s\n",
    "\n",
    "            \n",
    "    def update_table(self):\n",
    "        t_sse = 0\n",
    "        self.ch_pt = 0 \n",
    "        self.cent_c = np.zeros(self.K)\n",
    "        self.dis_k = np.zeros((self.K,self.DIM))\n",
    "        \n",
    "        for i in range(self.DCNT):\n",
    "            # find the nearest centroid of each data\n",
    "            min_dis = self.cal_distance(i,0)\n",
    "            min_k=0\n",
    "            for j in range(1,self.K):\n",
    "                dis = self.cal_distance(i,j)\n",
    "                if(dis<min_dis):\n",
    "                    min_dis = dis\n",
    "                    min_k = j\n",
    "                    \n",
    "            self.ch_pt += (self.table[i]!=min_k)\n",
    "            self.table[i] = min_k\n",
    "            self.cent_c[min_k] += 1\n",
    "            t_sse+=min_dis\n",
    "            self.dis_k[min_k] += self.data[i]\n",
    "                \n",
    "        return t_sse\n",
    "\n",
    "    def update_cent(self):\n",
    "        for i in range(self.K):\n",
    "            for j in range(self.DIM):\n",
    "                if self.cent_c[i] != 0:\n",
    "                    self.cent[i][j] = self.dis_k[i][j]/self.cent_c[i]\n",
    "                else:\n",
    "                    self.cent[i][j] = self.dis_k[i][j]\n",
    "                    \n",
    "\n",
    "    def print_cent(self):\n",
    "        print(\"Centroids:\")\n",
    "        print(self.cent)\n",
    "\n",
    "    def print_result(self):\n",
    "        print(\"K means:\")\n",
    "        print(self.table)\n",
    "        print(\"sse = \",end='')\n",
    "        print(self.sse2)\n",
    "        print(\"ch_pt = \",end='')\n",
    "        print(self.ch_pt)\n",
    "        print(\"iter = \",end='')\n",
    "        print(self.iterl)     \n",
    "    "
   ]
  },
  {
   "cell_type": "code",
   "execution_count": null,
   "metadata": {},
   "outputs": [],
   "source": []
  },
  {
   "cell_type": "markdown",
   "metadata": {},
   "source": [
    "## Result\n",
    "### Let's run for 1 time and check the performance"
   ]
  },
  {
   "cell_type": "code",
   "execution_count": 75,
   "metadata": {},
   "outputs": [
    {
     "name": "stdout",
     "output_type": "stream",
     "text": [
      "Average accuracy for  1  times :  0.8666666666666667\n"
     ]
    },
    {
     "data": {
      "text/plain": [
       "0.8666666666666667"
      ]
     },
     "execution_count": 75,
     "metadata": {},
     "output_type": "execute_result"
    }
   ],
   "source": [
    "result = our_k_means(data_x,data_y)\n",
    "result.calculate_acc(1)"
   ]
  },
  {
   "cell_type": "markdown",
   "metadata": {},
   "source": [
    "## Print out the center's coordinates"
   ]
  },
  {
   "cell_type": "code",
   "execution_count": 76,
   "metadata": {},
   "outputs": [
    {
     "name": "stdout",
     "output_type": "stream",
     "text": [
      "Centroids:\n",
      "[array([5.5, 2.4, 3.7, 1. ]), array([6.5, 3. , 5.5, 1.8]), array([4.6, 3.2, 1.4, 0.2])]\n"
     ]
    }
   ],
   "source": [
    "result.print_cent()"
   ]
  },
  {
   "cell_type": "markdown",
   "metadata": {},
   "source": [
    "## Then , we run it for (Simulate_time) times"
   ]
  },
  {
   "cell_type": "code",
   "execution_count": 77,
   "metadata": {},
   "outputs": [
    {
     "name": "stdout",
     "output_type": "stream",
     "text": [
      "Average accuracy for  10  times :  0.8653333333333333\n",
      "0.8653333333333333\n"
     ]
    }
   ],
   "source": [
    "Simulate_time = 10\n",
    "# Calculate\n",
    "result.calculate_acc(Simulate_time)\n",
    "print(result.acc)"
   ]
  },
  {
   "cell_type": "markdown",
   "metadata": {},
   "source": [
    "# Let's run the k-means provides by sklearn\n",
    "### -Then we can estimate how good we've done"
   ]
  },
  {
   "cell_type": "code",
   "execution_count": 78,
   "metadata": {},
   "outputs": [],
   "source": [
    "data_x = pd.DataFrame(data_x)\n",
    "DIM  = len(data_x.columns)       #資料維度\n",
    "K    = len(np.unique(data_y))    #叢聚個數\n",
    "label= pd.DataFrame(data_y)\n",
    "\n",
    "\n",
    "def k_means_sklearn(x):\n",
    "    \n",
    "    # KMeans 演算法\n",
    "    kmeans_fit = cluster.KMeans(n_clusters = K).fit(x)\n",
    "\n",
    "    # 測試分群結果\n",
    "    cluster_labels = kmeans_fit.predict(x)\n",
    "    \n",
    "    return cluster_labels"
   ]
  },
  {
   "cell_type": "code",
   "execution_count": 79,
   "metadata": {},
   "outputs": [],
   "source": [
    "#all the clusters should be 1-D DataFrame which contains the same labels\n",
    "def find_mass(k,dim,table,data):\n",
    "    mass = np.zeros((k,dim))\n",
    "    num = np.zeros(k)\n",
    "    row_count = 0\n",
    "\n",
    "    for i in table.values:\n",
    "        for j in range(dim):\n",
    "            mass[i][j] += data.iloc[row_count][j]\n",
    "        row_count += 1\n",
    "        num[i] += 1\n",
    "        \n",
    "    for i in range(k):\n",
    "        for j in range(dim):\n",
    "            mass[i][j] /= num[i]\n",
    "    \n",
    "    return mass"
   ]
  },
  {
   "cell_type": "code",
   "execution_count": 80,
   "metadata": {},
   "outputs": [],
   "source": [
    "def calculate_closest(k,origin,after_clustering):\n",
    "    closest = np.zeros(k)\n",
    "    for i in range(k):\n",
    "        min_dist=float(\"inf\")\n",
    "        for j in range(k):\n",
    "            dist = np.linalg.norm(after_clustering[i]-origin[j])\n",
    "            if dist < min_dist:\n",
    "                min_dist = dist\n",
    "                closest[i]=j\n",
    "    return closest "
   ]
  },
  {
   "cell_type": "code",
   "execution_count": 81,
   "metadata": {},
   "outputs": [],
   "source": [
    "def relabel(origin_table,rename_table,target):\n",
    "    target = target.replace(origin_table,rename_table)\n",
    "    return target"
   ]
  },
  {
   "cell_type": "code",
   "execution_count": 82,
   "metadata": {},
   "outputs": [],
   "source": [
    "\n",
    "cluster_labels = k_means_sklearn(data_x) # sklearn.cluster.k_means_sklearn"
   ]
  },
  {
   "cell_type": "code",
   "execution_count": 83,
   "metadata": {},
   "outputs": [],
   "source": [
    "#A list that can be used to compared the order of label\n",
    "temp = np.arange(K)\n",
    "#Turn the labels trained by skilearn into DataFrame format\n",
    "cluster_labels = pd.DataFrame(cluster_labels)\n",
    "\n",
    "#Find the mass of data with trained labels\n",
    "mass_sklean_kmeans = find_mass(K,DIM,cluster_labels.iloc[0:,0],data_x)\n",
    "#Find tha mass of data with original labels\n",
    "mass_origin        = find_mass(K,DIM,label.iloc[0:,0],data_x)\n",
    "#Fine the correct cluster names & Relabel\n",
    "closest_sklearn    = calculate_closest(K,mass_origin,mass_sklean_kmeans).astype(int)\n",
    "cluster_labels     = relabel(temp,closest_sklearn ,cluster_labels)"
   ]
  },
  {
   "cell_type": "code",
   "execution_count": 84,
   "metadata": {},
   "outputs": [
    {
     "data": {
      "text/plain": [
       "0.8933333333333333"
      ]
     },
     "execution_count": 84,
     "metadata": {},
     "output_type": "execute_result"
    }
   ],
   "source": [
    "#Valid accuracy\n",
    "sklearn_acc = accuracy_score(data_y,cluster_labels)\n",
    "sklearn_acc"
   ]
  },
  {
   "cell_type": "code",
   "execution_count": null,
   "metadata": {},
   "outputs": [],
   "source": []
  }
 ],
 "metadata": {
  "kernelspec": {
   "display_name": "Python 3",
   "language": "python",
   "name": "python3"
  },
  "language_info": {
   "codemirror_mode": {
    "name": "ipython",
    "version": 3
   },
   "file_extension": ".py",
   "mimetype": "text/x-python",
   "name": "python",
   "nbconvert_exporter": "python",
   "pygments_lexer": "ipython3",
   "version": "3.7.4"
  }
 },
 "nbformat": 4,
 "nbformat_minor": 2
}
